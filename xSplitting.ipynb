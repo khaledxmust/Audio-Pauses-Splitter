{
 "cells": [
  {
   "cell_type": "code",
   "execution_count": 1,
   "metadata": {},
   "outputs": [],
   "source": [
    "import os \n",
    "import audioop\n",
    "#import subprocess\n",
    "from auditok import split, AudioRegion"
   ]
  },
  {
   "cell_type": "markdown",
   "metadata": {},
   "source": [
    "### Audio Splitter"
   ]
  },
  {
   "cell_type": "code",
   "execution_count": 2,
   "metadata": {},
   "outputs": [],
   "source": [
    "def SplitSentences(path): \n",
    "    \n",
    "    #PreProcessing\n",
    "    Audio = AudioRegion.load(path) \n",
    "    \n",
    "    Data = audioop.tomono(bytes(Audio), Audio.sample_width, 0.5, 0.5)\n",
    "    \n",
    "    region_mono = AudioRegion(Data, sample_width=Audio.sw, sampling_rate=Audio.sr, channels=1)\n",
    "    \n",
    "    regions = region_mono.split(energy_threshold=50, use_channel='mix', min_dur=1, max_dur=15, max_silence = 0.25) \n",
    "    \n",
    "    #Extract pauses\n",
    "    onset = 0\n",
    "    pauses = []\n",
    "    speeches, NewSpeeches = [], []\n",
    "    for r in regions:\n",
    "        if onset < r.meta.start:\n",
    "            pauses.append((onset, r.meta.start))\n",
    "            onset = r.meta.end\n",
    "        speeches.append(r)\n",
    "\n",
    "    #Last pause if there exists\n",
    "    if onset < Audio.duration:\n",
    "        pauses.append((onset, Audio.duration))\n",
    "\n",
    "    silence = []\n",
    "    for pause in pauses:\n",
    "        silence.append(Audio.seconds[pause[0]:pause[1]])\n",
    "        \n",
    "    #Setting 15 Sec limitation\n",
    "    i = 0\n",
    "    max_limit = 15\n",
    "    while i < len(speeches):\n",
    "        sound = speeches[i]\n",
    "        while i < len(speeches)-1 and sound.duration + speeches[i+1].duration < max_limit:\n",
    "            i += 1\n",
    "            sound += speeches[i]\n",
    "        else:\n",
    "            i+=1\n",
    "        NewSpeeches.append(sound)\n",
    "    \n",
    "    try: os.mkdir(\"Converted\")\n",
    "    except: pass\n",
    "  \n",
    "    i = 0\n",
    "    #Speech Recognition\n",
    "    print('Found {0} Audio Sentences: '.format(len(NewSpeeches)))\n",
    "    for speech in NewSpeeches: \n",
    "      \n",
    "        print(\"Saving Sentence \" + str(i), end=\"\\r\") \n",
    "    \n",
    "        filename = speech.save(\"Converted/Mono \" + str(i) + \".wav\")\n",
    "  \n",
    "        i += 1\n",
    "  \n",
    "    print('Audio Sentences processed: ', len(NewSpeeches))"
   ]
  },
  {
   "cell_type": "code",
   "execution_count": 5,
   "metadata": {},
   "outputs": [
    {
     "name": "stdout",
     "output_type": "stream",
     "text": [
      "Enter the audio file path\n",
      "x1.mp3\n",
      "Found 217 Audio Sentences: \n",
      "Audio Sentences processed:  217\n"
     ]
    }
   ],
   "source": [
    "print('Enter the audio file path') \n",
    "path = input()\n",
    "SplitSentences(path)"
   ]
  },
  {
   "cell_type": "code",
   "execution_count": null,
   "metadata": {},
   "outputs": [],
   "source": []
  }
 ],
 "metadata": {
  "kernelspec": {
   "display_name": "Python 3",
   "language": "python",
   "name": "python3"
  },
  "language_info": {
   "codemirror_mode": {
    "name": "ipython",
    "version": 3
   },
   "file_extension": ".py",
   "mimetype": "text/x-python",
   "name": "python",
   "nbconvert_exporter": "python",
   "pygments_lexer": "ipython3",
   "version": "3.7.4"
  }
 },
 "nbformat": 4,
 "nbformat_minor": 2
}
